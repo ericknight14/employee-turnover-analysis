{
 "cells": [
  {
   "cell_type": "markdown",
   "id": "aa3e45f7",
   "metadata": {},
   "source": [
    "# Employee Turnover Analysis"
   ]
  },
  {
   "cell_type": "code",
   "execution_count": null,
   "id": "b0ae0ce7",
   "metadata": {},
   "outputs": [],
   "source": [
    "\n",
    "import pandas as pd\n",
    "import seaborn as sns\n",
    "import matplotlib.pyplot as plt\n",
    "\n",
    "# Load dataset\n",
    "df = pd.read_csv(\"../data/employee_data.csv\")\n",
    "df.head()\n"
   ]
  },
  {
   "cell_type": "code",
   "execution_count": null,
   "id": "248247c6",
   "metadata": {},
   "outputs": [],
   "source": [
    "\n",
    "# Turnover rate by department\n",
    "turnover_dept = df.groupby(\"Department\")[\"Attrition\"].value_counts(normalize=True).unstack().fillna(0)\n",
    "print(turnover_dept)\n"
   ]
  },
  {
   "cell_type": "code",
   "execution_count": null,
   "id": "418fb7f3",
   "metadata": {},
   "outputs": [],
   "source": [
    "\n",
    "# Visualization: Average Tenure of Employees by Attrition\n",
    "sns.barplot(x=\"Department\", y=\"TenureYears\", hue=\"Attrition\", data=df)\n",
    "plt.title(\"Average Tenure by Department (Left vs Stayed)\")\n",
    "plt.xticks(rotation=45)\n",
    "plt.show()\n"
   ]
  }
 ],
 "metadata": {},
 "nbformat": 4,
 "nbformat_minor": 5
}
